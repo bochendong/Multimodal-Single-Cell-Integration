{
 "cells": [
  {
   "cell_type": "code",
   "execution_count": 1,
   "metadata": {},
   "outputs": [
    {
     "ename": "",
     "evalue": "",
     "output_type": "error",
     "traceback": [
      "The Kernel crashed while executing code in the the current cell or a previous cell. Please review the code in the cell(s) to identify a possible cause of the failure. Click <a href='https://aka.ms/vscodeJupyterKernelCrash'>here</a> for more info. View Jupyter <a href='command:jupyter.viewOutput'>log</a> for further details."
     ]
    },
    {
     "ename": "",
     "evalue": "",
     "output_type": "error",
     "traceback": [
      "\u001b[1;31mCanceled future for execute_request message before replies were done"
     ]
    }
   ],
   "source": [
    "import numpy as np\n",
    "import os \n",
    "import glob\n",
    "\n",
    "import torch\n",
    "import torch.nn as nn\n",
    "import torch.nn.functional as F\n",
    "import torchvision.transforms as T\n",
    "import torch.optim as optim\n",
    "import torch.backends.cudnn as cudnn\n",
    "\n",
    "from torch.utils.data import TensorDataset, DataLoader, Dataset\n",
    "from torch.autograd import Variable\n",
    "%matplotlib inline"
   ]
  },
  {
   "cell_type": "code",
   "execution_count": null,
   "metadata": {},
   "outputs": [],
   "source": [
    "class Net(nn.Module):\n",
    "    def __init__(self):\n",
    "        super(Net, self).__init__()\n",
    "        self.fcs = nn.Sequential(\n",
    "                    nn.Linear(22050, 10000),\n",
    "                    nn.BatchNorm1d(10000),\n",
    "                    nn.ReLU(True),\n",
    "                    nn.Linear(10000, 4096),\n",
    "                    nn.BatchNorm1d(4096),\n",
    "                    nn.ReLU(True),\n",
    "                    nn.Linear(4096, 1000),\n",
    "                    nn.BatchNorm1d(1000),\n",
    "                    nn.ReLU(True),\n",
    "                    nn.Linear(1000, 140),\n",
    "                )\n",
    "    def forward(self, input_data):\n",
    "        feature = self.fcs(input_data)\n",
    "\n",
    "        return feature"
   ]
  },
  {
   "cell_type": "code",
   "execution_count": null,
   "metadata": {},
   "outputs": [],
   "source": [
    "def train(dataloader, net, criterion, optimizer, use_cuda=False):\n",
    "    net.train() # Sets the module in training mode.\n",
    "\n",
    "    batch_size = 128\n",
    "    loss_sum = 0\n",
    "    for batch_idx, (inputs, target) in enumerate(dataloader):\n",
    "        if use_cuda:\n",
    "            inputs, target = inputs.cuda(), target.cuda()\n",
    "            \n",
    "        optimizer.zero_grad()\n",
    "        inputs, target = Variable(inputs), Variable(target)\n",
    "        \n",
    "        pred_target = net(inputs)\n",
    "        \n",
    "\n",
    "        loss = criterion(target, pred_target)\n",
    "        loss.backward()\n",
    "        optimizer.step()\n",
    "        with torch.no_grad():\n",
    "            loss_sum += loss.detach().cpu().numpy()\n",
    "    \n",
    "    return loss_sum"
   ]
  },
  {
   "cell_type": "code",
   "execution_count": null,
   "metadata": {},
   "outputs": [],
   "source": [
    "criterion = torch.nn.L1Loss()\n",
    "\n",
    "net = Net()\n",
    "if (torch.cuda.is_available()):\n",
    "    torch.cuda.manual_seed_all(42)\n",
    "    cudnn.benchmark = True\n",
    "    net.cuda()\n",
    "    criterion = criterion.cuda()\n",
    "    \n",
    "optimizer = optim.Adam(net.parameters(), lr=0.001) "
   ]
  },
  {
   "cell_type": "code",
   "execution_count": null,
   "metadata": {},
   "outputs": [],
   "source": [
    "def Average(lst):\n",
    "    return sum(lst) / len(lst)"
   ]
  },
  {
   "cell_type": "code",
   "execution_count": null,
   "metadata": {},
   "outputs": [
    {
     "name": "stdout",
     "output_type": "stream",
     "text": [
      "ep: 0, loss: 8.62\n",
      "ep: 1, loss: 8.13\n",
      "ep: 2, loss: 7.86\n",
      "ep: 3, loss: 7.65\n"
     ]
    },
    {
     "ename": "KeyboardInterrupt",
     "evalue": "",
     "output_type": "error",
     "traceback": [
      "\u001b[1;31m---------------------------------------------------------------------------\u001b[0m",
      "\u001b[1;31mKeyboardInterrupt\u001b[0m                         Traceback (most recent call last)",
      "\u001b[1;32mc:\\Users\\55366\\Documents\\GitHub\\Multimodal-Single-Cell-Integration\\cite\\citeseq.ipynb Cell 6\u001b[0m in \u001b[0;36m<cell line: 2>\u001b[1;34m()\u001b[0m\n\u001b[0;32m      <a href='vscode-notebook-cell:/c%3A/Users/55366/Documents/GitHub/Multimodal-Single-Cell-Integration/cite/citeseq.ipynb#X10sZmlsZQ%3D%3D?line=2'>3</a>\u001b[0m loss_lst \u001b[39m=\u001b[39m []\n\u001b[0;32m      <a href='vscode-notebook-cell:/c%3A/Users/55366/Documents/GitHub/Multimodal-Single-Cell-Integration/cite/citeseq.ipynb#X10sZmlsZQ%3D%3D?line=3'>4</a>\u001b[0m \u001b[39mfor\u001b[39;00m i \u001b[39min\u001b[39;00m \u001b[39mrange\u001b[39m(\u001b[39m0\u001b[39m, \u001b[39m60\u001b[39m):\n\u001b[1;32m----> <a href='vscode-notebook-cell:/c%3A/Users/55366/Documents/GitHub/Multimodal-Single-Cell-Integration/cite/citeseq.ipynb#X10sZmlsZQ%3D%3D?line=4'>5</a>\u001b[0m     train_input \u001b[39m=\u001b[39m pd\u001b[39m.\u001b[39;49mread_hdf(\u001b[39m'\u001b[39;49m\u001b[39m./train_cite_inputs.h5\u001b[39;49m\u001b[39m'\u001b[39;49m, start\u001b[39m=\u001b[39;49m \u001b[39m1024\u001b[39;49m \u001b[39m*\u001b[39;49m i, stop\u001b[39m=\u001b[39;49m\u001b[39m1024\u001b[39;49m \u001b[39m*\u001b[39;49m i \u001b[39m+\u001b[39;49m \u001b[39m1024\u001b[39;49m)\n\u001b[0;32m      <a href='vscode-notebook-cell:/c%3A/Users/55366/Documents/GitHub/Multimodal-Single-Cell-Integration/cite/citeseq.ipynb#X10sZmlsZQ%3D%3D?line=5'>6</a>\u001b[0m     train_target \u001b[39m=\u001b[39m pd\u001b[39m.\u001b[39mread_hdf(\u001b[39m'\u001b[39m\u001b[39m./train_cite_targets.h5\u001b[39m\u001b[39m'\u001b[39m, start\u001b[39m=\u001b[39m \u001b[39m1024\u001b[39m \u001b[39m*\u001b[39m i, stop\u001b[39m=\u001b[39m\u001b[39m1024\u001b[39m \u001b[39m*\u001b[39m i \u001b[39m+\u001b[39m \u001b[39m1024\u001b[39m)\n\u001b[0;32m      <a href='vscode-notebook-cell:/c%3A/Users/55366/Documents/GitHub/Multimodal-Single-Cell-Integration/cite/citeseq.ipynb#X10sZmlsZQ%3D%3D?line=6'>7</a>\u001b[0m     x_train \u001b[39m=\u001b[39m train_input\u001b[39m.\u001b[39mto_numpy()\n",
      "File \u001b[1;32mc:\\Users\\55366\\anaconda3\\envs\\ml\\lib\\site-packages\\pandas\\io\\pytables.py:455\u001b[0m, in \u001b[0;36mread_hdf\u001b[1;34m(path_or_buf, key, mode, errors, where, start, stop, columns, iterator, chunksize, **kwargs)\u001b[0m\n\u001b[0;32m    450\u001b[0m                 \u001b[39mraise\u001b[39;00m \u001b[39mValueError\u001b[39;00m(\n\u001b[0;32m    451\u001b[0m                     \u001b[39m\"\u001b[39m\u001b[39mkey must be provided when HDF5 \u001b[39m\u001b[39m\"\u001b[39m\n\u001b[0;32m    452\u001b[0m                     \u001b[39m\"\u001b[39m\u001b[39mfile contains multiple datasets.\u001b[39m\u001b[39m\"\u001b[39m\n\u001b[0;32m    453\u001b[0m                 )\n\u001b[0;32m    454\u001b[0m         key \u001b[39m=\u001b[39m candidate_only_group\u001b[39m.\u001b[39m_v_pathname\n\u001b[1;32m--> 455\u001b[0m     \u001b[39mreturn\u001b[39;00m store\u001b[39m.\u001b[39;49mselect(\n\u001b[0;32m    456\u001b[0m         key,\n\u001b[0;32m    457\u001b[0m         where\u001b[39m=\u001b[39;49mwhere,\n\u001b[0;32m    458\u001b[0m         start\u001b[39m=\u001b[39;49mstart,\n\u001b[0;32m    459\u001b[0m         stop\u001b[39m=\u001b[39;49mstop,\n\u001b[0;32m    460\u001b[0m         columns\u001b[39m=\u001b[39;49mcolumns,\n\u001b[0;32m    461\u001b[0m         iterator\u001b[39m=\u001b[39;49miterator,\n\u001b[0;32m    462\u001b[0m         chunksize\u001b[39m=\u001b[39;49mchunksize,\n\u001b[0;32m    463\u001b[0m         auto_close\u001b[39m=\u001b[39;49mauto_close,\n\u001b[0;32m    464\u001b[0m     )\n\u001b[0;32m    465\u001b[0m \u001b[39mexcept\u001b[39;00m (\u001b[39mValueError\u001b[39;00m, \u001b[39mTypeError\u001b[39;00m, \u001b[39mKeyError\u001b[39;00m):\n\u001b[0;32m    466\u001b[0m     \u001b[39mif\u001b[39;00m \u001b[39mnot\u001b[39;00m \u001b[39misinstance\u001b[39m(path_or_buf, HDFStore):\n\u001b[0;32m    467\u001b[0m         \u001b[39m# if there is an error, close the store if we opened it.\u001b[39;00m\n",
      "File \u001b[1;32mc:\\Users\\55366\\anaconda3\\envs\\ml\\lib\\site-packages\\pandas\\io\\pytables.py:875\u001b[0m, in \u001b[0;36mHDFStore.select\u001b[1;34m(self, key, where, start, stop, columns, iterator, chunksize, auto_close)\u001b[0m\n\u001b[0;32m    861\u001b[0m \u001b[39m# create the iterator\u001b[39;00m\n\u001b[0;32m    862\u001b[0m it \u001b[39m=\u001b[39m TableIterator(\n\u001b[0;32m    863\u001b[0m     \u001b[39mself\u001b[39m,\n\u001b[0;32m    864\u001b[0m     s,\n\u001b[1;32m   (...)\u001b[0m\n\u001b[0;32m    872\u001b[0m     auto_close\u001b[39m=\u001b[39mauto_close,\n\u001b[0;32m    873\u001b[0m )\n\u001b[1;32m--> 875\u001b[0m \u001b[39mreturn\u001b[39;00m it\u001b[39m.\u001b[39;49mget_result()\n",
      "File \u001b[1;32mc:\\Users\\55366\\anaconda3\\envs\\ml\\lib\\site-packages\\pandas\\io\\pytables.py:1943\u001b[0m, in \u001b[0;36mTableIterator.get_result\u001b[1;34m(self, coordinates)\u001b[0m\n\u001b[0;32m   1940\u001b[0m     where \u001b[39m=\u001b[39m \u001b[39mself\u001b[39m\u001b[39m.\u001b[39mwhere\n\u001b[0;32m   1942\u001b[0m \u001b[39m# directly return the result\u001b[39;00m\n\u001b[1;32m-> 1943\u001b[0m results \u001b[39m=\u001b[39m \u001b[39mself\u001b[39;49m\u001b[39m.\u001b[39;49mfunc(\u001b[39mself\u001b[39;49m\u001b[39m.\u001b[39;49mstart, \u001b[39mself\u001b[39;49m\u001b[39m.\u001b[39;49mstop, where)\n\u001b[0;32m   1944\u001b[0m \u001b[39mself\u001b[39m\u001b[39m.\u001b[39mclose()\n\u001b[0;32m   1945\u001b[0m \u001b[39mreturn\u001b[39;00m results\n",
      "File \u001b[1;32mc:\\Users\\55366\\anaconda3\\envs\\ml\\lib\\site-packages\\pandas\\io\\pytables.py:859\u001b[0m, in \u001b[0;36mHDFStore.select.<locals>.func\u001b[1;34m(_start, _stop, _where)\u001b[0m\n\u001b[0;32m    858\u001b[0m \u001b[39mdef\u001b[39;00m \u001b[39mfunc\u001b[39m(_start, _stop, _where):\n\u001b[1;32m--> 859\u001b[0m     \u001b[39mreturn\u001b[39;00m s\u001b[39m.\u001b[39;49mread(start\u001b[39m=\u001b[39;49m_start, stop\u001b[39m=\u001b[39;49m_stop, where\u001b[39m=\u001b[39;49m_where, columns\u001b[39m=\u001b[39;49mcolumns)\n",
      "File \u001b[1;32mc:\\Users\\55366\\anaconda3\\envs\\ml\\lib\\site-packages\\pandas\\io\\pytables.py:3206\u001b[0m, in \u001b[0;36mBlockManagerFixed.read\u001b[1;34m(self, where, columns, start, stop)\u001b[0m\n\u001b[0;32m   3203\u001b[0m \u001b[39mfor\u001b[39;00m i \u001b[39min\u001b[39;00m \u001b[39mrange\u001b[39m(\u001b[39mself\u001b[39m\u001b[39m.\u001b[39mnblocks):\n\u001b[0;32m   3205\u001b[0m     blk_items \u001b[39m=\u001b[39m \u001b[39mself\u001b[39m\u001b[39m.\u001b[39mread_index(\u001b[39mf\u001b[39m\u001b[39m\"\u001b[39m\u001b[39mblock\u001b[39m\u001b[39m{\u001b[39;00mi\u001b[39m}\u001b[39;00m\u001b[39m_items\u001b[39m\u001b[39m\"\u001b[39m)\n\u001b[1;32m-> 3206\u001b[0m     values \u001b[39m=\u001b[39m \u001b[39mself\u001b[39;49m\u001b[39m.\u001b[39;49mread_array(\u001b[39mf\u001b[39;49m\u001b[39m\"\u001b[39;49m\u001b[39mblock\u001b[39;49m\u001b[39m{\u001b[39;49;00mi\u001b[39m}\u001b[39;49;00m\u001b[39m_values\u001b[39;49m\u001b[39m\"\u001b[39;49m, start\u001b[39m=\u001b[39;49m_start, stop\u001b[39m=\u001b[39;49m_stop)\n\u001b[0;32m   3208\u001b[0m     columns \u001b[39m=\u001b[39m items[items\u001b[39m.\u001b[39mget_indexer(blk_items)]\n\u001b[0;32m   3209\u001b[0m     df \u001b[39m=\u001b[39m DataFrame(values\u001b[39m.\u001b[39mT, columns\u001b[39m=\u001b[39mcolumns, index\u001b[39m=\u001b[39maxes[\u001b[39m1\u001b[39m])\n",
      "File \u001b[1;32mc:\\Users\\55366\\anaconda3\\envs\\ml\\lib\\site-packages\\pandas\\io\\pytables.py:2880\u001b[0m, in \u001b[0;36mGenericFixed.read_array\u001b[1;34m(self, key, start, stop)\u001b[0m\n\u001b[0;32m   2878\u001b[0m     ret \u001b[39m=\u001b[39m np\u001b[39m.\u001b[39mempty(shape, dtype\u001b[39m=\u001b[39mdtype)\n\u001b[0;32m   2879\u001b[0m \u001b[39melse\u001b[39;00m:\n\u001b[1;32m-> 2880\u001b[0m     ret \u001b[39m=\u001b[39m node[start:stop]\n\u001b[0;32m   2882\u001b[0m \u001b[39mif\u001b[39;00m dtype \u001b[39m==\u001b[39m \u001b[39m\"\u001b[39m\u001b[39mdatetime64\u001b[39m\u001b[39m\"\u001b[39m:\n\u001b[0;32m   2883\u001b[0m     \u001b[39m# reconstruct a timezone if indicated\u001b[39;00m\n\u001b[0;32m   2884\u001b[0m     tz \u001b[39m=\u001b[39m \u001b[39mgetattr\u001b[39m(attrs, \u001b[39m\"\u001b[39m\u001b[39mtz\u001b[39m\u001b[39m\"\u001b[39m, \u001b[39mNone\u001b[39;00m)\n",
      "File \u001b[1;32mc:\\Users\\55366\\anaconda3\\envs\\ml\\lib\\site-packages\\tables\\array.py:658\u001b[0m, in \u001b[0;36mArray.__getitem__\u001b[1;34m(self, key)\u001b[0m\n\u001b[0;32m    655\u001b[0m \u001b[39mtry\u001b[39;00m:\n\u001b[0;32m    656\u001b[0m     \u001b[39m# First, try with a regular selection\u001b[39;00m\n\u001b[0;32m    657\u001b[0m     startl, stopl, stepl, shape \u001b[39m=\u001b[39m \u001b[39mself\u001b[39m\u001b[39m.\u001b[39m_interpret_indexing(key)\n\u001b[1;32m--> 658\u001b[0m     arr \u001b[39m=\u001b[39m \u001b[39mself\u001b[39;49m\u001b[39m.\u001b[39;49m_read_slice(startl, stopl, stepl, shape)\n\u001b[0;32m    659\u001b[0m \u001b[39mexcept\u001b[39;00m \u001b[39mTypeError\u001b[39;00m:\n\u001b[0;32m    660\u001b[0m     \u001b[39m# Then, try with a point-wise selection\u001b[39;00m\n\u001b[0;32m    661\u001b[0m     \u001b[39mtry\u001b[39;00m:\n",
      "File \u001b[1;32mc:\\Users\\55366\\anaconda3\\envs\\ml\\lib\\site-packages\\tables\\array.py:762\u001b[0m, in \u001b[0;36mArray._read_slice\u001b[1;34m(self, startl, stopl, stepl, shape)\u001b[0m\n\u001b[0;32m    759\u001b[0m \u001b[39m# Protection against reading empty arrays\u001b[39;00m\n\u001b[0;32m    760\u001b[0m \u001b[39mif\u001b[39;00m \u001b[39m0\u001b[39m \u001b[39mnot\u001b[39;00m \u001b[39min\u001b[39;00m shape:\n\u001b[0;32m    761\u001b[0m     \u001b[39m# Arrays that have non-zero dimensionality\u001b[39;00m\n\u001b[1;32m--> 762\u001b[0m     \u001b[39mself\u001b[39;49m\u001b[39m.\u001b[39;49m_g_read_slice(startl, stopl, stepl, nparr)\n\u001b[0;32m    763\u001b[0m \u001b[39m# For zero-shaped arrays, return the scalar\u001b[39;00m\n\u001b[0;32m    764\u001b[0m \u001b[39mif\u001b[39;00m nparr\u001b[39m.\u001b[39mshape \u001b[39m==\u001b[39m ():\n",
      "\u001b[1;31mKeyboardInterrupt\u001b[0m: "
     ]
    }
   ],
   "source": [
    "epoch_loss_lst = []\n",
    "for epoch in range (0, 60):\n",
    "    loss_lst = []\n",
    "    for i in range(0, 68):\n",
    "        train_input = pd.read_hdf('./train_cite_inputs.h5', start= 1024 * i, stop=1024 * i + 1024)\n",
    "        train_target = pd.read_hdf('./train_cite_targets.h5', start= 1024 * i, stop=1024 * i + 1024)\n",
    "        x_train = train_input.to_numpy()\n",
    "        y_train = train_target.to_numpy()\n",
    "        x_train = torch.Tensor(x_train)\n",
    "        y_train = torch.Tensor(y_train)\n",
    "\n",
    "        train_dataset = TensorDataset(x_train, y_train)\n",
    "        dataloader_source = DataLoader(train_dataset, shuffle = True, batch_size=128, drop_last=True)\n",
    "\n",
    "        loss = train(dataloader_source, net, criterion, optimizer) \n",
    "        loss_lst.append(loss)\n",
    "    epoch_loss = Average(loss_lst)\n",
    "    epoch_loss_lst.append(epoch_loss)\n",
    "    print(\"ep: %d, loss: %.2f\" % (epoch, epoch_loss))"
   ]
  },
  {
   "cell_type": "code",
   "execution_count": null,
   "metadata": {},
   "outputs": [
    {
     "data": {
      "text/plain": [
       "[<matplotlib.lines.Line2D at 0x23f6af68070>]"
      ]
     },
     "execution_count": 13,
     "metadata": {},
     "output_type": "execute_result"
    },
    {
     "data": {
      "image/png": "[encoded data removed]",
      "text/plain": [
       "<Figure size 432x288 with 1 Axes>"
      ]
     },
     "metadata": {
      "needs_background": "light"
     },
     "output_type": "display_data"
    }
   ],
   "source": [
    "plt.plot(range(0, 60), epoch_loss_lst)"
   ]
  }
 ],
 "metadata": {
  "kernelspec": {
   "display_name": "Python 3.9.12 ('torch')",
   "language": "python",
   "name": "python3"
  },
  "language_info": {
   "codemirror_mode": {
    "name": "ipython",
    "version": 3
   },
   "file_extension": ".py",
   "mimetype": "text/x-python",
   "name": "python",
   "nbconvert_exporter": "python",
   "pygments_lexer": "ipython3",
   "version": "3.9.12"
  },
  "orig_nbformat": 4,
  "vscode": {
   "interpreter": {
    "hash": "5cc7386b279d9a93d75c4bea3dbacdf8554d4151214749a9fc5d41173b40286d"
   }
  }
 },
 "nbformat": 4,
 "nbformat_minor": 2
}
