{
 "cells": [
  {
   "cell_type": "code",
   "execution_count": 8,
   "metadata": {},
   "outputs": [],
   "source": [
    "import torch\n",
    "import torch.nn as nn\n",
    "import torch.nn.functional as F\n",
    "import torchvision.transforms as T\n",
    "import torch.optim as optim\n",
    "import torch.backends.cudnn as cudnn\n",
    "\n",
    "from torch.utils.data import TensorDataset, DataLoader, Dataset\n",
    "from torch.autograd import Variable\n",
    "%matplotlib inline"
   ]
  },
  {
   "cell_type": "code",
   "execution_count": 16,
   "metadata": {},
   "outputs": [],
   "source": [
    "import numpy as np\n",
    "import pandas as pd"
   ]
  },
  {
   "cell_type": "code",
   "execution_count": 10,
   "metadata": {},
   "outputs": [],
   "source": [
    "class Net(nn.Module):\n",
    "    def __init__(self):\n",
    "        super(Net, self).__init__()\n",
    "        self.fcs = nn.Sequential(\n",
    "                    nn.Linear(22050, 10000),\n",
    "                    nn.BatchNorm1d(10000),\n",
    "                    nn.ReLU(True),\n",
    "                    nn.Linear(10000, 4096),\n",
    "                    nn.BatchNorm1d(4096),\n",
    "                    nn.ReLU(True),\n",
    "                    nn.Linear(4096, 1000),\n",
    "                    nn.BatchNorm1d(1000),\n",
    "                    nn.ReLU(True),\n",
    "                    nn.Linear(1000, 140),\n",
    "                )\n",
    "    def forward(self, input_data):\n",
    "        feature = self.fcs(input_data)\n",
    "\n",
    "        return feature"
   ]
  },
  {
   "cell_type": "code",
   "execution_count": 11,
   "metadata": {},
   "outputs": [],
   "source": [
    "def train(dataloader, net, criterion, optimizer, use_cuda=False):\n",
    "    net.train() # Sets the module in training mode.\n",
    "\n",
    "    batch_size = 128\n",
    "    loss_sum = 0\n",
    "    for batch_idx, (inputs, target) in enumerate(dataloader):\n",
    "        if use_cuda:\n",
    "            inputs, target = inputs.cuda(), target.cuda()\n",
    "            \n",
    "        optimizer.zero_grad()\n",
    "        inputs, target = Variable(inputs), Variable(target)\n",
    "        \n",
    "        pred_target = net(inputs)\n",
    "        \n",
    "\n",
    "        loss = criterion(target, pred_target)\n",
    "        loss.backward()\n",
    "        optimizer.step()\n",
    "        with torch.no_grad():\n",
    "            loss_sum += loss.detach().cpu().numpy()\n",
    "    \n",
    "    return loss_sum"
   ]
  },
  {
   "cell_type": "code",
   "execution_count": 17,
   "metadata": {},
   "outputs": [],
   "source": [
    "criterion = torch.nn.L1Loss()\n",
    "\n",
    "net = Net()\n",
    "use_cuda = False\n",
    "if (torch.cuda.is_available()):\n",
    "    torch.cuda.manual_seed_all(42)\n",
    "    cudnn.benchmark = True\n",
    "    net.cuda()\n",
    "    criterion = criterion.cuda()\n",
    "    use_cuda = True\n",
    "    \n",
    "optimizer = optim.Adam(net.parameters(), lr=0.001) "
   ]
  },
  {
   "cell_type": "code",
   "execution_count": 15,
   "metadata": {},
   "outputs": [],
   "source": [
    "def Average(lst):\n",
    "    return sum(lst) / len(lst)"
   ]
  },
  {
   "cell_type": "code",
   "execution_count": 19,
   "metadata": {},
   "outputs": [
    {
     "name": "stdout",
     "output_type": "stream",
     "text": [
      "ep: 0, loss: 8.53\n",
      "ep: 1, loss: 8.07\n"
     ]
    },
    {
     "ename": "KeyboardInterrupt",
     "evalue": "",
     "output_type": "error",
     "traceback": [
      "\u001b[0;31m---------------------------------------------------------------------------\u001b[0m",
      "\u001b[0;31mKeyboardInterrupt\u001b[0m                         Traceback (most recent call last)",
      "\u001b[1;32m/Users/dongpochen/Github/Multimodal-Single-Cell-Integration/cite/citeseq.ipynb Cell 7\u001b[0m in \u001b[0;36m<cell line: 2>\u001b[0;34m()\u001b[0m\n\u001b[1;32m     <a href='vscode-notebook-cell:/Users/dongpochen/Github/Multimodal-Single-Cell-Integration/cite/citeseq.ipynb#W5sZmlsZQ%3D%3D?line=11'>12</a>\u001b[0m     train_dataset \u001b[39m=\u001b[39m TensorDataset(x_train, y_train)\n\u001b[1;32m     <a href='vscode-notebook-cell:/Users/dongpochen/Github/Multimodal-Single-Cell-Integration/cite/citeseq.ipynb#W5sZmlsZQ%3D%3D?line=12'>13</a>\u001b[0m     dataloader_source \u001b[39m=\u001b[39m DataLoader(train_dataset, shuffle \u001b[39m=\u001b[39m \u001b[39mTrue\u001b[39;00m, batch_size\u001b[39m=\u001b[39m\u001b[39m128\u001b[39m, drop_last\u001b[39m=\u001b[39m\u001b[39mTrue\u001b[39;00m)\n\u001b[0;32m---> <a href='vscode-notebook-cell:/Users/dongpochen/Github/Multimodal-Single-Cell-Integration/cite/citeseq.ipynb#W5sZmlsZQ%3D%3D?line=14'>15</a>\u001b[0m     loss \u001b[39m=\u001b[39m train(dataloader_source, net, criterion, optimizer, use_cuda) \n\u001b[1;32m     <a href='vscode-notebook-cell:/Users/dongpochen/Github/Multimodal-Single-Cell-Integration/cite/citeseq.ipynb#W5sZmlsZQ%3D%3D?line=15'>16</a>\u001b[0m     loss_lst\u001b[39m.\u001b[39mappend(loss)\n\u001b[1;32m     <a href='vscode-notebook-cell:/Users/dongpochen/Github/Multimodal-Single-Cell-Integration/cite/citeseq.ipynb#W5sZmlsZQ%3D%3D?line=16'>17</a>\u001b[0m epoch_loss \u001b[39m=\u001b[39m Average(loss_lst)\n",
      "\u001b[1;32m/Users/dongpochen/Github/Multimodal-Single-Cell-Integration/cite/citeseq.ipynb Cell 7\u001b[0m in \u001b[0;36mtrain\u001b[0;34m(dataloader, net, criterion, optimizer, use_cuda)\u001b[0m\n\u001b[1;32m     <a href='vscode-notebook-cell:/Users/dongpochen/Github/Multimodal-Single-Cell-Integration/cite/citeseq.ipynb#W5sZmlsZQ%3D%3D?line=12'>13</a>\u001b[0m pred_target \u001b[39m=\u001b[39m net(inputs)\n\u001b[1;32m     <a href='vscode-notebook-cell:/Users/dongpochen/Github/Multimodal-Single-Cell-Integration/cite/citeseq.ipynb#W5sZmlsZQ%3D%3D?line=15'>16</a>\u001b[0m loss \u001b[39m=\u001b[39m criterion(target, pred_target)\n\u001b[0;32m---> <a href='vscode-notebook-cell:/Users/dongpochen/Github/Multimodal-Single-Cell-Integration/cite/citeseq.ipynb#W5sZmlsZQ%3D%3D?line=16'>17</a>\u001b[0m loss\u001b[39m.\u001b[39;49mbackward()\n\u001b[1;32m     <a href='vscode-notebook-cell:/Users/dongpochen/Github/Multimodal-Single-Cell-Integration/cite/citeseq.ipynb#W5sZmlsZQ%3D%3D?line=17'>18</a>\u001b[0m optimizer\u001b[39m.\u001b[39mstep()\n\u001b[1;32m     <a href='vscode-notebook-cell:/Users/dongpochen/Github/Multimodal-Single-Cell-Integration/cite/citeseq.ipynb#W5sZmlsZQ%3D%3D?line=18'>19</a>\u001b[0m \u001b[39mwith\u001b[39;00m torch\u001b[39m.\u001b[39mno_grad():\n",
      "File \u001b[0;32m~/opt/anaconda3/envs/torch/lib/python3.9/site-packages/torch/_tensor.py:396\u001b[0m, in \u001b[0;36mTensor.backward\u001b[0;34m(self, gradient, retain_graph, create_graph, inputs)\u001b[0m\n\u001b[1;32m    387\u001b[0m \u001b[39mif\u001b[39;00m has_torch_function_unary(\u001b[39mself\u001b[39m):\n\u001b[1;32m    388\u001b[0m     \u001b[39mreturn\u001b[39;00m handle_torch_function(\n\u001b[1;32m    389\u001b[0m         Tensor\u001b[39m.\u001b[39mbackward,\n\u001b[1;32m    390\u001b[0m         (\u001b[39mself\u001b[39m,),\n\u001b[0;32m   (...)\u001b[0m\n\u001b[1;32m    394\u001b[0m         create_graph\u001b[39m=\u001b[39mcreate_graph,\n\u001b[1;32m    395\u001b[0m         inputs\u001b[39m=\u001b[39minputs)\n\u001b[0;32m--> 396\u001b[0m torch\u001b[39m.\u001b[39;49mautograd\u001b[39m.\u001b[39;49mbackward(\u001b[39mself\u001b[39;49m, gradient, retain_graph, create_graph, inputs\u001b[39m=\u001b[39;49minputs)\n",
      "File \u001b[0;32m~/opt/anaconda3/envs/torch/lib/python3.9/site-packages/torch/autograd/__init__.py:173\u001b[0m, in \u001b[0;36mbackward\u001b[0;34m(tensors, grad_tensors, retain_graph, create_graph, grad_variables, inputs)\u001b[0m\n\u001b[1;32m    168\u001b[0m     retain_graph \u001b[39m=\u001b[39m create_graph\n\u001b[1;32m    170\u001b[0m \u001b[39m# The reason we repeat same the comment below is that\u001b[39;00m\n\u001b[1;32m    171\u001b[0m \u001b[39m# some Python versions print out the first line of a multi-line function\u001b[39;00m\n\u001b[1;32m    172\u001b[0m \u001b[39m# calls in the traceback and some print out the last line\u001b[39;00m\n\u001b[0;32m--> 173\u001b[0m Variable\u001b[39m.\u001b[39;49m_execution_engine\u001b[39m.\u001b[39;49mrun_backward(  \u001b[39m# Calls into the C++ engine to run the backward pass\u001b[39;49;00m\n\u001b[1;32m    174\u001b[0m     tensors, grad_tensors_, retain_graph, create_graph, inputs,\n\u001b[1;32m    175\u001b[0m     allow_unreachable\u001b[39m=\u001b[39;49m\u001b[39mTrue\u001b[39;49;00m, accumulate_grad\u001b[39m=\u001b[39;49m\u001b[39mTrue\u001b[39;49;00m)\n",
      "\u001b[0;31mKeyboardInterrupt\u001b[0m: "
     ]
    }
   ],
   "source": [
    "epoch_loss_lst = []\n",
    "for epoch in range (0, 60):\n",
    "    loss_lst = []\n",
    "    for i in range(0, 68):\n",
    "        train_input = pd.read_hdf('./train_cite_inputs.h5', start= 1024 * i, stop=1024 * i + 1024)\n",
    "        train_target = pd.read_hdf('./train_cite_targets.h5', start= 1024 * i, stop=1024 * i + 1024)\n",
    "        x_train = train_input.to_numpy()\n",
    "        y_train = train_target.to_numpy()\n",
    "        x_train = torch.Tensor(x_train)\n",
    "        y_train = torch.Tensor(y_train)\n",
    "\n",
    "        train_dataset = TensorDataset(x_train, y_train)\n",
    "        dataloader_source = DataLoader(train_dataset, shuffle = True, batch_size=128, drop_last=True)\n",
    "\n",
    "        loss = train(dataloader_source, net, criterion, optimizer, use_cuda) \n",
    "        loss_lst.append(loss)\n",
    "    epoch_loss = Average(loss_lst)\n",
    "    epoch_loss_lst.append(epoch_loss)\n",
    "    print(\"ep: %d, loss: %.2f\" % (epoch, epoch_loss))"
   ]
  },
  {
   "cell_type": "code",
   "execution_count": null,
   "metadata": {},
   "outputs": [
    {
     "data": {
      "text/plain": [
       "[<matplotlib.lines.Line2D at 0x23f6af68070>]"
      ]
     },
     "execution_count": 13,
     "metadata": {},
     "output_type": "execute_result"
    },
    {
     "data": {
      "image/png": "[encoded data removed]",
      "text/plain": [
       "<Figure size 432x288 with 1 Axes>"
      ]
     },
     "metadata": {
      "needs_background": "light"
     },
     "output_type": "display_data"
    }
   ],
   "source": [
    "plt.plot(range(0, 60), epoch_loss_lst)"
   ]
  }
 ],
 "metadata": {
  "kernelspec": {
   "display_name": "Python 3.9.12 ('torch')",
   "language": "python",
   "name": "python3"
  },
  "language_info": {
   "codemirror_mode": {
    "name": "ipython",
    "version": 3
   },
   "file_extension": ".py",
   "mimetype": "text/x-python",
   "name": "python",
   "nbconvert_exporter": "python",
   "pygments_lexer": "ipython3",
   "version": "3.9.12"
  },
  "orig_nbformat": 4,
  "vscode": {
   "interpreter": {
    "hash": "5cc7386b279d9a93d75c4bea3dbacdf8554d4151214749a9fc5d41173b40286d"
   }
  }
 },
 "nbformat": 4,
 "nbformat_minor": 2
}
