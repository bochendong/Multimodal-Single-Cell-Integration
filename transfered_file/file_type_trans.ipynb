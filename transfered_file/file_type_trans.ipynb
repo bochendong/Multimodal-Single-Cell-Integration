{
 "cells": [
  {
   "cell_type": "markdown",
   "metadata": {},
   "source": [
    "# File transfer"
   ]
  },
  {
   "cell_type": "code",
   "execution_count": 1,
   "metadata": {},
   "outputs": [],
   "source": [
    "import pandas as pd\n",
    "import numpy as np\n",
    "import scipy.sparse\n",
    "import scipy"
   ]
  },
  {
   "cell_type": "code",
   "execution_count": 2,
   "metadata": {},
   "outputs": [],
   "source": [
    "def convert_to_parquet(filename, out_filename):\n",
    "    df = pd.read_csv(filename)\n",
    "    df.to_parquet(out_filename + \".parquet\")"
   ]
  },
  {
   "cell_type": "code",
   "execution_count": 3,
   "metadata": {},
   "outputs": [],
   "source": [
    "def convert_h5_to_sparse_csr(filename, out_filename, chunksize=2500):\n",
    "    start = 0\n",
    "    total_rows = 0\n",
    "\n",
    "    sparse_chunks_data_list = []\n",
    "    chunks_index_list = []\n",
    "    columns_name = None\n",
    "    while True:\n",
    "        df_chunk = pd.read_hdf(filename, start=start, stop=start+chunksize)\n",
    "        if len(df_chunk) == 0:\n",
    "            break\n",
    "        chunk_data_as_sparse = scipy.sparse.csr_matrix(df_chunk.to_numpy())\n",
    "        sparse_chunks_data_list.append(chunk_data_as_sparse)\n",
    "        chunks_index_list.append(df_chunk.index.to_numpy())\n",
    "\n",
    "        if columns_name is None:\n",
    "            columns_name = df_chunk.columns.to_numpy()\n",
    "        else:\n",
    "            assert np.all(columns_name == df_chunk.columns.to_numpy())\n",
    "\n",
    "        total_rows += len(df_chunk)\n",
    "        if len(df_chunk) < chunksize: \n",
    "            del df_chunk\n",
    "            break\n",
    "        del df_chunk\n",
    "        start += chunksize\n",
    "        \n",
    "    all_data_sparse = scipy.sparse.vstack(sparse_chunks_data_list)\n",
    "    del sparse_chunks_data_list\n",
    "    \n",
    "    all_indices = np.hstack(chunks_index_list)\n",
    "    \n",
    "    scipy.sparse.save_npz(out_filename+\"_values.sparse\", all_data_sparse)\n",
    "    np.savez(out_filename+\"_idxcol.npz\", index=all_indices, columns =columns_name)"
   ]
  },
  {
   "cell_type": "markdown",
   "metadata": {},
   "source": [
    "### Training set"
   ]
  },
  {
   "cell_type": "code",
   "execution_count": null,
   "metadata": {},
   "outputs": [],
   "source": [
    "convert_h5_to_sparse_csr(\"../multi/train_multi_targets.h5\", \"train_multi_targets\")"
   ]
  },
  {
   "cell_type": "code",
   "execution_count": null,
   "metadata": {},
   "outputs": [],
   "source": [
    "convert_h5_to_sparse_csr(\"../multi/train_multi_inputs.h5\", \"train_multi_inputs\")"
   ]
  },
  {
   "cell_type": "code",
   "execution_count": 7,
   "metadata": {},
   "outputs": [],
   "source": [
    "convert_h5_to_sparse_csr(\"../citeseq/train_cite_targets.h5\", \"train_cite_targets\")"
   ]
  },
  {
   "cell_type": "code",
   "execution_count": 8,
   "metadata": {},
   "outputs": [],
   "source": [
    "convert_h5_to_sparse_csr(\"../citeseq/train_cite_inputs.h5\", \"train_cite_inputs\")"
   ]
  },
  {
   "cell_type": "markdown",
   "metadata": {},
   "source": [
    "### Testing set"
   ]
  },
  {
   "cell_type": "code",
   "execution_count": 9,
   "metadata": {},
   "outputs": [],
   "source": [
    "convert_h5_to_sparse_csr(\"../multi/test_multi_inputs.h5\", \"test_multi_inputs\")"
   ]
  },
  {
   "cell_type": "code",
   "execution_count": 10,
   "metadata": {},
   "outputs": [],
   "source": [
    "convert_h5_to_sparse_csr(\"../citeseq/test_cite_inputs.h5\", \"test_cite_inputs\")"
   ]
  },
  {
   "cell_type": "markdown",
   "metadata": {},
   "source": [
    "### Eval"
   ]
  },
  {
   "cell_type": "code",
   "execution_count": 3,
   "metadata": {},
   "outputs": [],
   "source": [
    "convert_to_parquet(\"../submission/evaluation_ids.csv\", \"evaluation\")"
   ]
  },
  {
   "cell_type": "code",
   "execution_count": 4,
   "metadata": {},
   "outputs": [],
   "source": [
    "convert_to_parquet(\"../submission/metadata.csv\", \"metadata\")"
   ]
  }
 ],
 "metadata": {
  "kernelspec": {
   "display_name": "Python 3.8.12 ('ml')",
   "language": "python",
   "name": "python3"
  },
  "language_info": {
   "codemirror_mode": {
    "name": "ipython",
    "version": 3
   },
   "file_extension": ".py",
   "mimetype": "text/x-python",
   "name": "python",
   "nbconvert_exporter": "python",
   "pygments_lexer": "ipython3",
   "version": "3.8.12"
  },
  "orig_nbformat": 4,
  "vscode": {
   "interpreter": {
    "hash": "0abf52f7dff1bbf2191b90c10bb43e97e891f8d70dafe2d0c71717742c591866"
   }
  }
 },
 "nbformat": 4,
 "nbformat_minor": 2
}
