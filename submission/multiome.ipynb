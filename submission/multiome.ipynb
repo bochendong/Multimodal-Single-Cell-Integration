{
 "cells": [
  {
   "cell_type": "code",
   "execution_count": 2,
   "metadata": {},
   "outputs": [],
   "source": [
    "import numpy as np\n",
    "import pandas as pd\n",
    "import os \n",
    "import glob\n",
    "import matplotlib.pyplot as plt\n",
    "import seaborn as sns"
   ]
  },
  {
   "cell_type": "code",
   "execution_count": 3,
   "metadata": {},
   "outputs": [],
   "source": [
    "df = pd.read_csv(\"evaluation_ids.csv\")\n",
    "metadata = pd.read_csv(\"metadata.csv\")"
   ]
  },
  {
   "cell_type": "code",
   "execution_count": 4,
   "metadata": {},
   "outputs": [],
   "source": [
    "eval_df = pd.merge(df, metadata, how='left',on='cell_id')"
   ]
  },
  {
   "cell_type": "code",
   "execution_count": 5,
   "metadata": {},
   "outputs": [
    {
     "data": {
      "text/html": [
       "<div>\n",
       "<style scoped>\n",
       "    .dataframe tbody tr th:only-of-type {\n",
       "        vertical-align: middle;\n",
       "    }\n",
       "\n",
       "    .dataframe tbody tr th {\n",
       "        vertical-align: top;\n",
       "    }\n",
       "\n",
       "    .dataframe thead th {\n",
       "        text-align: right;\n",
       "    }\n",
       "</style>\n",
       "<table border=\"1\" class=\"dataframe\">\n",
       "  <thead>\n",
       "    <tr style=\"text-align: right;\">\n",
       "      <th></th>\n",
       "      <th>row_id</th>\n",
       "      <th>cell_id</th>\n",
       "      <th>gene_id</th>\n",
       "      <th>day</th>\n",
       "      <th>donor</th>\n",
       "      <th>cell_type</th>\n",
       "      <th>technology</th>\n",
       "    </tr>\n",
       "  </thead>\n",
       "  <tbody>\n",
       "    <tr>\n",
       "      <th>0</th>\n",
       "      <td>0</td>\n",
       "      <td>c2150f55becb</td>\n",
       "      <td>CD86</td>\n",
       "      <td>2</td>\n",
       "      <td>27678</td>\n",
       "      <td>HSC</td>\n",
       "      <td>citeseq</td>\n",
       "    </tr>\n",
       "    <tr>\n",
       "      <th>1</th>\n",
       "      <td>1</td>\n",
       "      <td>c2150f55becb</td>\n",
       "      <td>CD274</td>\n",
       "      <td>2</td>\n",
       "      <td>27678</td>\n",
       "      <td>HSC</td>\n",
       "      <td>citeseq</td>\n",
       "    </tr>\n",
       "    <tr>\n",
       "      <th>2</th>\n",
       "      <td>2</td>\n",
       "      <td>c2150f55becb</td>\n",
       "      <td>CD270</td>\n",
       "      <td>2</td>\n",
       "      <td>27678</td>\n",
       "      <td>HSC</td>\n",
       "      <td>citeseq</td>\n",
       "    </tr>\n",
       "    <tr>\n",
       "      <th>3</th>\n",
       "      <td>3</td>\n",
       "      <td>c2150f55becb</td>\n",
       "      <td>CD155</td>\n",
       "      <td>2</td>\n",
       "      <td>27678</td>\n",
       "      <td>HSC</td>\n",
       "      <td>citeseq</td>\n",
       "    </tr>\n",
       "    <tr>\n",
       "      <th>4</th>\n",
       "      <td>4</td>\n",
       "      <td>c2150f55becb</td>\n",
       "      <td>CD112</td>\n",
       "      <td>2</td>\n",
       "      <td>27678</td>\n",
       "      <td>HSC</td>\n",
       "      <td>citeseq</td>\n",
       "    </tr>\n",
       "    <tr>\n",
       "      <th>...</th>\n",
       "      <td>...</td>\n",
       "      <td>...</td>\n",
       "      <td>...</td>\n",
       "      <td>...</td>\n",
       "      <td>...</td>\n",
       "      <td>...</td>\n",
       "      <td>...</td>\n",
       "    </tr>\n",
       "    <tr>\n",
       "      <th>65744175</th>\n",
       "      <td>65744175</td>\n",
       "      <td>2c53aa67933d</td>\n",
       "      <td>ENSG00000134419</td>\n",
       "      <td>7</td>\n",
       "      <td>27678</td>\n",
       "      <td>hidden</td>\n",
       "      <td>multiome</td>\n",
       "    </tr>\n",
       "    <tr>\n",
       "      <th>65744176</th>\n",
       "      <td>65744176</td>\n",
       "      <td>2c53aa67933d</td>\n",
       "      <td>ENSG00000186862</td>\n",
       "      <td>7</td>\n",
       "      <td>27678</td>\n",
       "      <td>hidden</td>\n",
       "      <td>multiome</td>\n",
       "    </tr>\n",
       "    <tr>\n",
       "      <th>65744177</th>\n",
       "      <td>65744177</td>\n",
       "      <td>2c53aa67933d</td>\n",
       "      <td>ENSG00000170959</td>\n",
       "      <td>7</td>\n",
       "      <td>27678</td>\n",
       "      <td>hidden</td>\n",
       "      <td>multiome</td>\n",
       "    </tr>\n",
       "    <tr>\n",
       "      <th>65744178</th>\n",
       "      <td>65744178</td>\n",
       "      <td>2c53aa67933d</td>\n",
       "      <td>ENSG00000107874</td>\n",
       "      <td>7</td>\n",
       "      <td>27678</td>\n",
       "      <td>hidden</td>\n",
       "      <td>multiome</td>\n",
       "    </tr>\n",
       "    <tr>\n",
       "      <th>65744179</th>\n",
       "      <td>65744179</td>\n",
       "      <td>2c53aa67933d</td>\n",
       "      <td>ENSG00000166012</td>\n",
       "      <td>7</td>\n",
       "      <td>27678</td>\n",
       "      <td>hidden</td>\n",
       "      <td>multiome</td>\n",
       "    </tr>\n",
       "  </tbody>\n",
       "</table>\n",
       "<p>65744180 rows × 7 columns</p>\n",
       "</div>"
      ],
      "text/plain": [
       "            row_id       cell_id          gene_id  day  donor cell_type  \\\n",
       "0                0  c2150f55becb             CD86    2  27678       HSC   \n",
       "1                1  c2150f55becb            CD274    2  27678       HSC   \n",
       "2                2  c2150f55becb            CD270    2  27678       HSC   \n",
       "3                3  c2150f55becb            CD155    2  27678       HSC   \n",
       "4                4  c2150f55becb            CD112    2  27678       HSC   \n",
       "...            ...           ...              ...  ...    ...       ...   \n",
       "65744175  65744175  2c53aa67933d  ENSG00000134419    7  27678    hidden   \n",
       "65744176  65744176  2c53aa67933d  ENSG00000186862    7  27678    hidden   \n",
       "65744177  65744177  2c53aa67933d  ENSG00000170959    7  27678    hidden   \n",
       "65744178  65744178  2c53aa67933d  ENSG00000107874    7  27678    hidden   \n",
       "65744179  65744179  2c53aa67933d  ENSG00000166012    7  27678    hidden   \n",
       "\n",
       "         technology  \n",
       "0           citeseq  \n",
       "1           citeseq  \n",
       "2           citeseq  \n",
       "3           citeseq  \n",
       "4           citeseq  \n",
       "...             ...  \n",
       "65744175   multiome  \n",
       "65744176   multiome  \n",
       "65744177   multiome  \n",
       "65744178   multiome  \n",
       "65744179   multiome  \n",
       "\n",
       "[65744180 rows x 7 columns]"
      ]
     },
     "execution_count": 5,
     "metadata": {},
     "output_type": "execute_result"
    }
   ],
   "source": [
    "eval_df"
   ]
  },
  {
   "cell_type": "code",
   "execution_count": 6,
   "metadata": {},
   "outputs": [],
   "source": [
    "df = eval_df[eval_df[\"technology\"] == 'multiome']"
   ]
  },
  {
   "cell_type": "code",
   "execution_count": 8,
   "metadata": {},
   "outputs": [],
   "source": [
    "cite_df = df.drop(['cell_id', 'row_id', 'technology'], axis = 1)"
   ]
  },
  {
   "cell_type": "code",
   "execution_count": 9,
   "metadata": {},
   "outputs": [],
   "source": [
    "cite_df['donor'] = cite_df['donor'].apply(lambda x: 1 if x == 13176 else x)\n",
    "cite_df['donor'] = cite_df['donor'].apply(lambda x: 2 if x == 27678 else x)\n",
    "cite_df['donor'] = cite_df['donor'].apply(lambda x: 3 if x == 31800 else x)\n",
    "cite_df['donor'] = cite_df['donor'].apply(lambda x: 4 if x == 32606 else x)"
   ]
  },
  {
   "cell_type": "code",
   "execution_count": 10,
   "metadata": {},
   "outputs": [],
   "source": [
    "day = cite_df.set_index(\"gene_id\")[[\"day\"]].value_counts().to_frame()\\\n",
    "                .sort_values(\"day\").reset_index()\\\n",
    "                .rename(columns={0:\"# cells\"})\n",
    "\n",
    "donor = cite_df.set_index(\"gene_id\")[[\"donor\"]].value_counts().to_frame()\\\n",
    "                .sort_values(\"donor\").reset_index()\\\n",
    "                .rename(columns={0:\"# cells\"})\n",
    "\n",
    "cell_type = cite_df.set_index(\"gene_id\")[[\"cell_type\"]].value_counts().to_frame()\\\n",
    "                .sort_values(\"cell_type\").reset_index()\\\n",
    "                .rename(columns={0:\"# cells\"})"
   ]
  },
  {
   "cell_type": "code",
   "execution_count": 23,
   "metadata": {},
   "outputs": [
    {
     "data": {
      "image/png": "[encoded data removed]",
      "text/plain": [
       "<Figure size 1152x288 with 3 Axes>"
      ]
     },
     "metadata": {
      "needs_background": "light"
     },
     "output_type": "display_data"
    }
   ],
   "source": [
    "f, axs = plt.subplots(1, 3, figsize=(16,4), sharey=True)\n",
    "sns.barplot(x = \"day\", y=\"# cells\", data = day, palette=\"RdBu\", ax = axs[0])\n",
    "axs[0].set_title(\"eval set diff day using multiome\")\n",
    "sns.barplot(x = \"donor\", y=\"# cells\", data = donor, palette=\"Spectral\", ax = axs[1])\n",
    "axs[1].set_title(\"eval set diff donor using multiome\")\n",
    "g = sns.barplot(x = \"cell_type\", y=\"# cells\", data = cell_type, palette=\"magma\", ax = axs[2])\n",
    "\n",
    "axs[2].set_title(\"eval set diff cell type using multiome\")\n",
    "f.savefig('./image/1.2.png')"
   ]
  },
  {
   "cell_type": "code",
   "execution_count": 22,
   "metadata": {},
   "outputs": [
    {
     "data": {
      "image/png": "[encoded data removed]",
      "text/plain": [
       "<Figure size 1152x288 with 5 Axes>"
      ]
     },
     "metadata": {
      "needs_background": "light"
     },
     "output_type": "display_data"
    }
   ],
   "source": [
    "day_donor = cite_df.set_index(\"gene_id\")[[\"day\", 'donor']].value_counts().to_frame()\\\n",
    "                .sort_values(\"donor\").reset_index()\\\n",
    "                .rename(columns={0:\"# cells\"})\n",
    "\n",
    "day_donor_2 = day_donor[day_donor['day'] == 2]\n",
    "day_donor_3 = day_donor[day_donor['day'] == 3]\n",
    "day_donor_4 = day_donor[day_donor['day'] == 4]\n",
    "day_donor_7 = day_donor[day_donor['day'] == 7]\n",
    "day_donor_10 = day_donor[day_donor['day'] == 10]\n",
    "df_empty_2 = pd.DataFrame({'day': [3, 4, 7],\n",
    "                    'donor' : [1, 3, 4],\n",
    "                    '# cells' : [0 , 0, 0]})\n",
    "\n",
    "df_empty_3 = pd.DataFrame({'day': [2, 3, 4, 7],\n",
    "                    'donor' : [1, 2, 3, 4],\n",
    "                    '# cells' : [0 , 0, 0, 0]})\n",
    "\n",
    "day_donor_2 = pd.concat([day_donor_2, df_empty_2], ignore_index = True, axis = 0)\n",
    "day_donor_3 = pd.concat([day_donor_3, df_empty_2], ignore_index = True, axis = 0)\n",
    "day_donor_4 = pd.concat([day_donor_4, df_empty_3], ignore_index = True, axis = 0)\n",
    "day_donor_7 = pd.concat([day_donor_7, df_empty_2], ignore_index = True, axis = 0)\n",
    "day_donor_10 = pd.concat([day_donor_10, df_empty_2], ignore_index = True, axis = 0)\n",
    "\n",
    "f, (ax1, ax2, ax3, ax4, ax5) = plt.subplots(1, 5, figsize=(16, 4), sharey=True)\n",
    "sns.barplot(x=day_donor_2['donor'], y=day_donor_2['# cells'], palette=\"rocket\", ax=ax1)\n",
    "ax1.set_xlabel(\"day = 2\")\n",
    "ax1.set_ylabel(\"number of cells\")\n",
    "ax1.set_title(\" cells taken from diff donor\")\n",
    "\n",
    "sns.barplot(x=day_donor_3['donor'], y=day_donor_3['# cells'], palette=\"flare\", ax=ax2)\n",
    "ax2.set_xlabel(\"day = 3\")\n",
    "ax2.set_ylabel(\"number of cells\")\n",
    "ax2.set_title(\" cells taken from diff donor\")\n",
    "\n",
    "sns.barplot(x=day_donor_4['donor'], y=day_donor_4['# cells'], palette=\"magma\", ax=ax3)\n",
    "ax3.set_xlabel(\"day = 4\")\n",
    "ax3.set_ylabel(\"number of cells\")\n",
    "ax3.set_title(\" cells taken from diff donor\")\n",
    "\n",
    "sns.barplot(x=day_donor_7['donor'], y=day_donor_7['# cells'], palette=\"rocket_r\", ax=ax4)\n",
    "ax4.set_xlabel(\"day = 7\")\n",
    "ax4.set_ylabel(\"number of cells\")\n",
    "ax4.set_title(\" cells taken from diff donor\")\n",
    "\n",
    "sns.barplot(x=day_donor_10['donor'], y=day_donor_10['# cells'], palette=\"rocket_r\", ax=ax5)\n",
    "ax5.set_xlabel(\"day = 10\")\n",
    "ax5.set_ylabel(\"number of cells\")\n",
    "ax5.set_title(\" cells taken from diff donor\")\n",
    "\n",
    "f.savefig('./image/3.1.1.png')"
   ]
  }
 ],
 "metadata": {
  "kernelspec": {
   "display_name": "Python 3.8.12 ('ml')",
   "language": "python",
   "name": "python3"
  },
  "language_info": {
   "codemirror_mode": {
    "name": "ipython",
    "version": 3
   },
   "file_extension": ".py",
   "mimetype": "text/x-python",
   "name": "python",
   "nbconvert_exporter": "python",
   "pygments_lexer": "ipython3",
   "version": "3.8.12"
  },
  "orig_nbformat": 4,
  "vscode": {
   "interpreter": {
    "hash": "0abf52f7dff1bbf2191b90c10bb43e97e891f8d70dafe2d0c71717742c591866"
   }
  }
 },
 "nbformat": 4,
 "nbformat_minor": 2
}
